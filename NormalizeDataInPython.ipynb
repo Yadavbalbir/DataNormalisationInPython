{
 "cells": [
  {
   "cell_type": "markdown",
   "id": "8696422e",
   "metadata": {},
   "source": [
    "# # What is Normalisation?"
   ]
  },
  {
   "cell_type": "code",
   "execution_count": 1,
   "id": "4cc9a433",
   "metadata": {},
   "outputs": [],
   "source": [
    "## Normalisation of data is basically scaling of data. Which is commonly scaled between 0 and 1"
   ]
  },
  {
   "cell_type": "markdown",
   "id": "247b8e34",
   "metadata": {},
   "source": [
    "### Why Normalise \n",
    "It is observed that machine learning algorithm tends to perform better and converge faster when the data are of smaller scale.\n",
    "So, It is always recommended and It is common practice to normalise your data.\n",
    "Once you have normalised your data then you can build model. "
   ]
  },
  {
   "cell_type": "markdown",
   "id": "4ed91444",
   "metadata": {},
   "source": [
    "Noramalisation decreases the senstivity to the scale of the features resulting in better results after training"
   ]
  },
  {
   "cell_type": "markdown",
   "id": "3ef9d397",
   "metadata": {},
   "source": [
    "Formula for normalisation is given below"
   ]
  },
  {
   "cell_type": "markdown",
   "id": "bd131d98",
   "metadata": {},
   "source": [
    "Xnorm = (X-Xmin)/(Xmax-Xmin)"
   ]
  },
  {
   "cell_type": "markdown",
   "id": "38763b3f",
   "metadata": {},
   "source": [
    "Just subtract the the data point with min of all the data point and then divide the result with the difference with the maximum and minimum of all data points."
   ]
  },
  {
   "cell_type": "markdown",
   "id": "6bbeac85",
   "metadata": {},
   "source": [
    "### Normalisation of data using sklearn"
   ]
  },
  {
   "cell_type": "code",
   "execution_count": 5,
   "id": "27afff4b",
   "metadata": {},
   "outputs": [],
   "source": [
    "from sklearn import preprocessing\n",
    "import numpy as np"
   ]
  },
  {
   "cell_type": "code",
   "execution_count": 7,
   "id": "1367122d",
   "metadata": {},
   "outputs": [
    {
     "data": {
      "text/plain": [
       "array([ 10.,  20.,  30.,  40.,  50.,  60.,  70.,  80.,  90., 100.])"
      ]
     },
     "execution_count": 7,
     "metadata": {},
     "output_type": "execute_result"
    }
   ],
   "source": [
    "x=np.linspace(10, 100, 10)\n",
    "x"
   ]
  },
  {
   "cell_type": "markdown",
   "id": "2205a87a",
   "metadata": {},
   "source": [
    "linspace(a,b,size) is used to array which starts with a and ends on b with total number of elements equal to size. "
   ]
  },
  {
   "cell_type": "markdown",
   "id": "f6486967",
   "metadata": {},
   "source": [
    "Now, Let's Normalise the array x that we have created just above. "
   ]
  },
  {
   "cell_type": "code",
   "execution_count": 12,
   "id": "5e7338a9",
   "metadata": {},
   "outputs": [
    {
     "data": {
      "text/plain": [
       "array([[0.05096472, 0.10192944, 0.15289416, 0.20385888, 0.2548236 ,\n",
       "        0.30578831, 0.35675303, 0.40771775, 0.45868247, 0.50964719]])"
      ]
     },
     "execution_count": 12,
     "metadata": {},
     "output_type": "execute_result"
    }
   ],
   "source": [
    "normalized_x=preprocessing.normalize([x])\n",
    "normalized_x"
   ]
  },
  {
   "cell_type": "markdown",
   "id": "cf4de917",
   "metadata": {},
   "source": [
    "#### Boom!! Array has been normalized\n",
    "You can see that every element in the normalized array has been rescaled between zero to one. "
   ]
  },
  {
   "cell_type": "code",
   "execution_count": null,
   "id": "e1e5ae81",
   "metadata": {},
   "outputs": [],
   "source": []
  },
  {
   "cell_type": "markdown",
   "id": "1229c0ea",
   "metadata": {},
   "source": [
    "## Another way to Normalize Data in python by using MinMaxScaler() \n",
    "MinMaxScaler() is also provided by sklearn. It is also good to know here what MinMaxScaler gives us an option to rescale data in the choice of our range. That is suppose you want to rescale your data points between 0 to 4(say) then you can easily do it by using MinMaxScaler. <br>\n",
    "Let's implement it"
   ]
  },
  {
   "cell_type": "code",
   "execution_count": 19,
   "id": "ee8956f6",
   "metadata": {},
   "outputs": [],
   "source": [
    "from sklearn import preprocessing \n",
    "import pandas as pd"
   ]
  },
  {
   "cell_type": "code",
   "execution_count": 20,
   "id": "3173adf3",
   "metadata": {},
   "outputs": [
    {
     "data": {
      "text/html": [
       "<div>\n",
       "<style scoped>\n",
       "    .dataframe tbody tr th:only-of-type {\n",
       "        vertical-align: middle;\n",
       "    }\n",
       "\n",
       "    .dataframe tbody tr th {\n",
       "        vertical-align: top;\n",
       "    }\n",
       "\n",
       "    .dataframe thead th {\n",
       "        text-align: right;\n",
       "    }\n",
       "</style>\n",
       "<table border=\"1\" class=\"dataframe\">\n",
       "  <thead>\n",
       "    <tr style=\"text-align: right;\">\n",
       "      <th></th>\n",
       "      <th>food</th>\n",
       "      <th>decor</th>\n",
       "      <th>service</th>\n",
       "      <th>price</th>\n",
       "    </tr>\n",
       "  </thead>\n",
       "  <tbody>\n",
       "    <tr>\n",
       "      <th>0</th>\n",
       "      <td>18.0</td>\n",
       "      <td>22.0</td>\n",
       "      <td>17.0</td>\n",
       "      <td>41.0</td>\n",
       "    </tr>\n",
       "    <tr>\n",
       "      <th>1</th>\n",
       "      <td>24.0</td>\n",
       "      <td>22.0</td>\n",
       "      <td>22.0</td>\n",
       "      <td>54.0</td>\n",
       "    </tr>\n",
       "    <tr>\n",
       "      <th>2</th>\n",
       "      <td>18.0</td>\n",
       "      <td>17.0</td>\n",
       "      <td>14.0</td>\n",
       "      <td>32.0</td>\n",
       "    </tr>\n",
       "    <tr>\n",
       "      <th>3</th>\n",
       "      <td>18.0</td>\n",
       "      <td>9.0</td>\n",
       "      <td>13.0</td>\n",
       "      <td>20.0</td>\n",
       "    </tr>\n",
       "    <tr>\n",
       "      <th>4</th>\n",
       "      <td>21.0</td>\n",
       "      <td>12.0</td>\n",
       "      <td>16.0</td>\n",
       "      <td>25.0</td>\n",
       "    </tr>\n",
       "    <tr>\n",
       "      <th>...</th>\n",
       "      <td>...</td>\n",
       "      <td>...</td>\n",
       "      <td>...</td>\n",
       "      <td>...</td>\n",
       "    </tr>\n",
       "    <tr>\n",
       "      <th>109</th>\n",
       "      <td>20.0</td>\n",
       "      <td>21.0</td>\n",
       "      <td>18.0</td>\n",
       "      <td>40.0</td>\n",
       "    </tr>\n",
       "    <tr>\n",
       "      <th>110</th>\n",
       "      <td>18.0</td>\n",
       "      <td>14.0</td>\n",
       "      <td>16.0</td>\n",
       "      <td>30.0</td>\n",
       "    </tr>\n",
       "    <tr>\n",
       "      <th>111</th>\n",
       "      <td>17.0</td>\n",
       "      <td>17.0</td>\n",
       "      <td>18.0</td>\n",
       "      <td>34.0</td>\n",
       "    </tr>\n",
       "    <tr>\n",
       "      <th>112</th>\n",
       "      <td>20.0</td>\n",
       "      <td>22.0</td>\n",
       "      <td>21.0</td>\n",
       "      <td>51.0</td>\n",
       "    </tr>\n",
       "    <tr>\n",
       "      <th>113</th>\n",
       "      <td>19.0</td>\n",
       "      <td>14.0</td>\n",
       "      <td>15.0</td>\n",
       "      <td>23.0</td>\n",
       "    </tr>\n",
       "  </tbody>\n",
       "</table>\n",
       "<p>114 rows × 4 columns</p>\n",
       "</div>"
      ],
      "text/plain": [
       "     food  decor  service  price\n",
       "0    18.0   22.0     17.0   41.0\n",
       "1    24.0   22.0     22.0   54.0\n",
       "2    18.0   17.0     14.0   32.0\n",
       "3    18.0    9.0     13.0   20.0\n",
       "4    21.0   12.0     16.0   25.0\n",
       "..    ...    ...      ...    ...\n",
       "109  20.0   21.0     18.0   40.0\n",
       "110  18.0   14.0     16.0   30.0\n",
       "111  17.0   17.0     18.0   34.0\n",
       "112  20.0   22.0     21.0   51.0\n",
       "113  19.0   14.0     15.0   23.0\n",
       "\n",
       "[114 rows x 4 columns]"
      ]
     },
     "execution_count": 20,
     "metadata": {},
     "output_type": "execute_result"
    }
   ],
   "source": [
    "data = pd.read_csv(\"restaurent.csv\")\n",
    "data"
   ]
  },
  {
   "cell_type": "code",
   "execution_count": 21,
   "id": "e2056b56",
   "metadata": {},
   "outputs": [
    {
     "data": {
      "text/html": [
       "<div>\n",
       "<style scoped>\n",
       "    .dataframe tbody tr th:only-of-type {\n",
       "        vertical-align: middle;\n",
       "    }\n",
       "\n",
       "    .dataframe tbody tr th {\n",
       "        vertical-align: top;\n",
       "    }\n",
       "\n",
       "    .dataframe thead th {\n",
       "        text-align: right;\n",
       "    }\n",
       "</style>\n",
       "<table border=\"1\" class=\"dataframe\">\n",
       "  <thead>\n",
       "    <tr style=\"text-align: right;\">\n",
       "      <th></th>\n",
       "      <th>food</th>\n",
       "      <th>decor</th>\n",
       "      <th>service</th>\n",
       "      <th>price</th>\n",
       "    </tr>\n",
       "  </thead>\n",
       "  <tbody>\n",
       "    <tr>\n",
       "      <th>0</th>\n",
       "      <td>0.307692</td>\n",
       "      <td>0.769231</td>\n",
       "      <td>0.4375</td>\n",
       "      <td>0.555556</td>\n",
       "    </tr>\n",
       "    <tr>\n",
       "      <th>1</th>\n",
       "      <td>0.769231</td>\n",
       "      <td>0.769231</td>\n",
       "      <td>0.7500</td>\n",
       "      <td>0.796296</td>\n",
       "    </tr>\n",
       "    <tr>\n",
       "      <th>2</th>\n",
       "      <td>0.307692</td>\n",
       "      <td>0.576923</td>\n",
       "      <td>0.2500</td>\n",
       "      <td>0.388889</td>\n",
       "    </tr>\n",
       "    <tr>\n",
       "      <th>3</th>\n",
       "      <td>0.307692</td>\n",
       "      <td>0.269231</td>\n",
       "      <td>0.1875</td>\n",
       "      <td>0.166667</td>\n",
       "    </tr>\n",
       "    <tr>\n",
       "      <th>4</th>\n",
       "      <td>0.538462</td>\n",
       "      <td>0.384615</td>\n",
       "      <td>0.3750</td>\n",
       "      <td>0.259259</td>\n",
       "    </tr>\n",
       "    <tr>\n",
       "      <th>...</th>\n",
       "      <td>...</td>\n",
       "      <td>...</td>\n",
       "      <td>...</td>\n",
       "      <td>...</td>\n",
       "    </tr>\n",
       "    <tr>\n",
       "      <th>109</th>\n",
       "      <td>0.461538</td>\n",
       "      <td>0.730769</td>\n",
       "      <td>0.5000</td>\n",
       "      <td>0.537037</td>\n",
       "    </tr>\n",
       "    <tr>\n",
       "      <th>110</th>\n",
       "      <td>0.307692</td>\n",
       "      <td>0.461538</td>\n",
       "      <td>0.3750</td>\n",
       "      <td>0.351852</td>\n",
       "    </tr>\n",
       "    <tr>\n",
       "      <th>111</th>\n",
       "      <td>0.230769</td>\n",
       "      <td>0.576923</td>\n",
       "      <td>0.5000</td>\n",
       "      <td>0.425926</td>\n",
       "    </tr>\n",
       "    <tr>\n",
       "      <th>112</th>\n",
       "      <td>0.461538</td>\n",
       "      <td>0.769231</td>\n",
       "      <td>0.6875</td>\n",
       "      <td>0.740741</td>\n",
       "    </tr>\n",
       "    <tr>\n",
       "      <th>113</th>\n",
       "      <td>0.384615</td>\n",
       "      <td>0.461538</td>\n",
       "      <td>0.3125</td>\n",
       "      <td>0.222222</td>\n",
       "    </tr>\n",
       "  </tbody>\n",
       "</table>\n",
       "<p>114 rows × 4 columns</p>\n",
       "</div>"
      ],
      "text/plain": [
       "         food     decor  service     price\n",
       "0    0.307692  0.769231   0.4375  0.555556\n",
       "1    0.769231  0.769231   0.7500  0.796296\n",
       "2    0.307692  0.576923   0.2500  0.388889\n",
       "3    0.307692  0.269231   0.1875  0.166667\n",
       "4    0.538462  0.384615   0.3750  0.259259\n",
       "..        ...       ...      ...       ...\n",
       "109  0.461538  0.730769   0.5000  0.537037\n",
       "110  0.307692  0.461538   0.3750  0.351852\n",
       "111  0.230769  0.576923   0.5000  0.425926\n",
       "112  0.461538  0.769231   0.6875  0.740741\n",
       "113  0.384615  0.461538   0.3125  0.222222\n",
       "\n",
       "[114 rows x 4 columns]"
      ]
     },
     "execution_count": 21,
     "metadata": {},
     "output_type": "execute_result"
    }
   ],
   "source": [
    "normalizer=preprocessing.MinMaxScaler(feature_range=(0,1))\n",
    "col_name=data.columns\n",
    "d=normalizer.fit_transform(data)\n",
    "normalized_data=pd.DataFrame(d,columns=col_name)\n",
    "normalized_data"
   ]
  },
  {
   "cell_type": "markdown",
   "id": "113cbf0f",
   "metadata": {},
   "source": [
    "### Boom!! Normalization done using MinMaxScaler()\n",
    "Note: The beauty of the approach is that we can normalize all the columns in one go. "
   ]
  },
  {
   "cell_type": "code",
   "execution_count": null,
   "id": "2880fd99",
   "metadata": {},
   "outputs": [],
   "source": []
  },
  {
   "cell_type": "markdown",
   "id": "f4d00173",
   "metadata": {},
   "source": [
    "## Let's Normalise the data in range of our choice\n",
    "This will be done with the help of MinMaxScaler only but this time we will change the feature_range to, say, (0,3) "
   ]
  },
  {
   "cell_type": "code",
   "execution_count": 23,
   "id": "3d863d1c",
   "metadata": {},
   "outputs": [],
   "source": [
    "from sklearn import preprocessing \n",
    "import pandas as pd"
   ]
  },
  {
   "cell_type": "code",
   "execution_count": 24,
   "id": "60e03612",
   "metadata": {},
   "outputs": [
    {
     "data": {
      "text/html": [
       "<div>\n",
       "<style scoped>\n",
       "    .dataframe tbody tr th:only-of-type {\n",
       "        vertical-align: middle;\n",
       "    }\n",
       "\n",
       "    .dataframe tbody tr th {\n",
       "        vertical-align: top;\n",
       "    }\n",
       "\n",
       "    .dataframe thead th {\n",
       "        text-align: right;\n",
       "    }\n",
       "</style>\n",
       "<table border=\"1\" class=\"dataframe\">\n",
       "  <thead>\n",
       "    <tr style=\"text-align: right;\">\n",
       "      <th></th>\n",
       "      <th>food</th>\n",
       "      <th>decor</th>\n",
       "      <th>service</th>\n",
       "      <th>price</th>\n",
       "    </tr>\n",
       "  </thead>\n",
       "  <tbody>\n",
       "    <tr>\n",
       "      <th>0</th>\n",
       "      <td>18.0</td>\n",
       "      <td>22.0</td>\n",
       "      <td>17.0</td>\n",
       "      <td>41.0</td>\n",
       "    </tr>\n",
       "    <tr>\n",
       "      <th>1</th>\n",
       "      <td>24.0</td>\n",
       "      <td>22.0</td>\n",
       "      <td>22.0</td>\n",
       "      <td>54.0</td>\n",
       "    </tr>\n",
       "    <tr>\n",
       "      <th>2</th>\n",
       "      <td>18.0</td>\n",
       "      <td>17.0</td>\n",
       "      <td>14.0</td>\n",
       "      <td>32.0</td>\n",
       "    </tr>\n",
       "    <tr>\n",
       "      <th>3</th>\n",
       "      <td>18.0</td>\n",
       "      <td>9.0</td>\n",
       "      <td>13.0</td>\n",
       "      <td>20.0</td>\n",
       "    </tr>\n",
       "    <tr>\n",
       "      <th>4</th>\n",
       "      <td>21.0</td>\n",
       "      <td>12.0</td>\n",
       "      <td>16.0</td>\n",
       "      <td>25.0</td>\n",
       "    </tr>\n",
       "    <tr>\n",
       "      <th>...</th>\n",
       "      <td>...</td>\n",
       "      <td>...</td>\n",
       "      <td>...</td>\n",
       "      <td>...</td>\n",
       "    </tr>\n",
       "    <tr>\n",
       "      <th>109</th>\n",
       "      <td>20.0</td>\n",
       "      <td>21.0</td>\n",
       "      <td>18.0</td>\n",
       "      <td>40.0</td>\n",
       "    </tr>\n",
       "    <tr>\n",
       "      <th>110</th>\n",
       "      <td>18.0</td>\n",
       "      <td>14.0</td>\n",
       "      <td>16.0</td>\n",
       "      <td>30.0</td>\n",
       "    </tr>\n",
       "    <tr>\n",
       "      <th>111</th>\n",
       "      <td>17.0</td>\n",
       "      <td>17.0</td>\n",
       "      <td>18.0</td>\n",
       "      <td>34.0</td>\n",
       "    </tr>\n",
       "    <tr>\n",
       "      <th>112</th>\n",
       "      <td>20.0</td>\n",
       "      <td>22.0</td>\n",
       "      <td>21.0</td>\n",
       "      <td>51.0</td>\n",
       "    </tr>\n",
       "    <tr>\n",
       "      <th>113</th>\n",
       "      <td>19.0</td>\n",
       "      <td>14.0</td>\n",
       "      <td>15.0</td>\n",
       "      <td>23.0</td>\n",
       "    </tr>\n",
       "  </tbody>\n",
       "</table>\n",
       "<p>114 rows × 4 columns</p>\n",
       "</div>"
      ],
      "text/plain": [
       "     food  decor  service  price\n",
       "0    18.0   22.0     17.0   41.0\n",
       "1    24.0   22.0     22.0   54.0\n",
       "2    18.0   17.0     14.0   32.0\n",
       "3    18.0    9.0     13.0   20.0\n",
       "4    21.0   12.0     16.0   25.0\n",
       "..    ...    ...      ...    ...\n",
       "109  20.0   21.0     18.0   40.0\n",
       "110  18.0   14.0     16.0   30.0\n",
       "111  17.0   17.0     18.0   34.0\n",
       "112  20.0   22.0     21.0   51.0\n",
       "113  19.0   14.0     15.0   23.0\n",
       "\n",
       "[114 rows x 4 columns]"
      ]
     },
     "execution_count": 24,
     "metadata": {},
     "output_type": "execute_result"
    }
   ],
   "source": [
    "data2 = pd.read_csv(\"restaurent.csv\")\n",
    "data"
   ]
  },
  {
   "cell_type": "code",
   "execution_count": 25,
   "id": "16518745",
   "metadata": {},
   "outputs": [
    {
     "data": {
      "text/html": [
       "<div>\n",
       "<style scoped>\n",
       "    .dataframe tbody tr th:only-of-type {\n",
       "        vertical-align: middle;\n",
       "    }\n",
       "\n",
       "    .dataframe tbody tr th {\n",
       "        vertical-align: top;\n",
       "    }\n",
       "\n",
       "    .dataframe thead th {\n",
       "        text-align: right;\n",
       "    }\n",
       "</style>\n",
       "<table border=\"1\" class=\"dataframe\">\n",
       "  <thead>\n",
       "    <tr style=\"text-align: right;\">\n",
       "      <th></th>\n",
       "      <th>food</th>\n",
       "      <th>decor</th>\n",
       "      <th>service</th>\n",
       "      <th>price</th>\n",
       "    </tr>\n",
       "  </thead>\n",
       "  <tbody>\n",
       "    <tr>\n",
       "      <th>0</th>\n",
       "      <td>0.923077</td>\n",
       "      <td>2.307692</td>\n",
       "      <td>1.3125</td>\n",
       "      <td>1.666667</td>\n",
       "    </tr>\n",
       "    <tr>\n",
       "      <th>1</th>\n",
       "      <td>2.307692</td>\n",
       "      <td>2.307692</td>\n",
       "      <td>2.2500</td>\n",
       "      <td>2.388889</td>\n",
       "    </tr>\n",
       "    <tr>\n",
       "      <th>2</th>\n",
       "      <td>0.923077</td>\n",
       "      <td>1.730769</td>\n",
       "      <td>0.7500</td>\n",
       "      <td>1.166667</td>\n",
       "    </tr>\n",
       "    <tr>\n",
       "      <th>3</th>\n",
       "      <td>0.923077</td>\n",
       "      <td>0.807692</td>\n",
       "      <td>0.5625</td>\n",
       "      <td>0.500000</td>\n",
       "    </tr>\n",
       "    <tr>\n",
       "      <th>4</th>\n",
       "      <td>1.615385</td>\n",
       "      <td>1.153846</td>\n",
       "      <td>1.1250</td>\n",
       "      <td>0.777778</td>\n",
       "    </tr>\n",
       "    <tr>\n",
       "      <th>...</th>\n",
       "      <td>...</td>\n",
       "      <td>...</td>\n",
       "      <td>...</td>\n",
       "      <td>...</td>\n",
       "    </tr>\n",
       "    <tr>\n",
       "      <th>109</th>\n",
       "      <td>1.384615</td>\n",
       "      <td>2.192308</td>\n",
       "      <td>1.5000</td>\n",
       "      <td>1.611111</td>\n",
       "    </tr>\n",
       "    <tr>\n",
       "      <th>110</th>\n",
       "      <td>0.923077</td>\n",
       "      <td>1.384615</td>\n",
       "      <td>1.1250</td>\n",
       "      <td>1.055556</td>\n",
       "    </tr>\n",
       "    <tr>\n",
       "      <th>111</th>\n",
       "      <td>0.692308</td>\n",
       "      <td>1.730769</td>\n",
       "      <td>1.5000</td>\n",
       "      <td>1.277778</td>\n",
       "    </tr>\n",
       "    <tr>\n",
       "      <th>112</th>\n",
       "      <td>1.384615</td>\n",
       "      <td>2.307692</td>\n",
       "      <td>2.0625</td>\n",
       "      <td>2.222222</td>\n",
       "    </tr>\n",
       "    <tr>\n",
       "      <th>113</th>\n",
       "      <td>1.153846</td>\n",
       "      <td>1.384615</td>\n",
       "      <td>0.9375</td>\n",
       "      <td>0.666667</td>\n",
       "    </tr>\n",
       "  </tbody>\n",
       "</table>\n",
       "<p>114 rows × 4 columns</p>\n",
       "</div>"
      ],
      "text/plain": [
       "         food     decor  service     price\n",
       "0    0.923077  2.307692   1.3125  1.666667\n",
       "1    2.307692  2.307692   2.2500  2.388889\n",
       "2    0.923077  1.730769   0.7500  1.166667\n",
       "3    0.923077  0.807692   0.5625  0.500000\n",
       "4    1.615385  1.153846   1.1250  0.777778\n",
       "..        ...       ...      ...       ...\n",
       "109  1.384615  2.192308   1.5000  1.611111\n",
       "110  0.923077  1.384615   1.1250  1.055556\n",
       "111  0.692308  1.730769   1.5000  1.277778\n",
       "112  1.384615  2.307692   2.0625  2.222222\n",
       "113  1.153846  1.384615   0.9375  0.666667\n",
       "\n",
       "[114 rows x 4 columns]"
      ]
     },
     "execution_count": 25,
     "metadata": {},
     "output_type": "execute_result"
    }
   ],
   "source": [
    "normalizer=preprocessing.MinMaxScaler(feature_range=(0,3))\n",
    "col_name=data.columns\n",
    "d=normalizer.fit_transform(data)\n",
    "normalized_data=pd.DataFrame(d,columns=col_name)\n",
    "normalized_data"
   ]
  },
  {
   "cell_type": "markdown",
   "id": "f3ad15d6",
   "metadata": {},
   "source": [
    "## Boom!! \n",
    "we can observe that it is rescaled to range of 0 to 3 for all the columns in just one go. "
   ]
  },
  {
   "cell_type": "markdown",
   "id": "d5f3cb37",
   "metadata": {},
   "source": [
    "## Conclusion \n",
    "As we have seen in the above tutorial that we can normalize data in the range of our choice with the help of MinMaxScaler() provided under sklearn. But it is always recommended to normalize data between zero to one. "
   ]
  },
  {
   "cell_type": "markdown",
   "id": "ba575f8d",
   "metadata": {},
   "source": [
    "So, That's all from this tutorial. See you next tutorial blog. Thank you!"
   ]
  }
 ],
 "metadata": {
  "kernelspec": {
   "display_name": "Python 3",
   "language": "python",
   "name": "python3"
  },
  "language_info": {
   "codemirror_mode": {
    "name": "ipython",
    "version": 3
   },
   "file_extension": ".py",
   "mimetype": "text/x-python",
   "name": "python",
   "nbconvert_exporter": "python",
   "pygments_lexer": "ipython3",
   "version": "3.8.8"
  }
 },
 "nbformat": 4,
 "nbformat_minor": 5
}
